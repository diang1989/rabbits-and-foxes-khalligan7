{
 "cells": [
  {
   "cell_type": "markdown",
   "metadata": {},
   "source": [
    "# Rabbits and foxes\n",
    "\n",
    "There are initially 400 rabbits and 200 foxes on a farm (but it could be two cell types in a 96 well plate or something, if you prefer bio-engineering analogies). Plot the concentration of foxes and rabbits as a function of time for a period of up to 600 days. The predator-prey relationships are given by the following set of coupled ordinary differential equations:\n",
    "\n",
    "\\begin{align}\n",
    "\\frac{dR}{dt} &= k_1 R - k_2 R F \\tag{1}\\\\\n",
    "\\frac{dF}{dt} &= k_3 R F - k_4 F \\tag{2}\\\\\n",
    "\\end{align}\n",
    "\n",
    "* Constant for growth of rabbits $k_1 = 0.015$ day<sup>-1</sup>\n",
    "* Constant for death of rabbits being eaten by foxes $k_2 = 0.00004$ day<sup>-1</sup> foxes<sup>-1</sup>\n",
    "* Constant for growth of foxes after eating rabbits $k_3 = 0.0004$ day<sup>-1</sup> rabbits<sup>-1</sup>\n",
    "* Constant for death of foxes $k_1 = 0.04$ day<sup>-1</sup>\n",
    "\n",
    "Also plot the number of foxes versus the number of rabbits.\n",
    "\n",
    "Then try also with \n",
    "* $k_3 = 0.00004$ day<sup>-1</sup> rabbits<sup>-1</sup>\n",
    "* $t_{final} = 800$ days\n",
    "\n",
    "*This problem is based on one from Chapter 1 of H. Scott Fogler's textbook \"Essentials of Chemical Reaction Engineering\".*\n"
   ]
  },
  {
   "cell_type": "markdown",
   "metadata": {
    "collapsed": true
   },
   "source": [
    "# Solving ODEs\n",
    "\n",
    "*Much of the following content reused under Creative Commons Attribution license CC-BY 4.0, code under MIT license (c)2014 L.A. Barba, G.F. Forsyth. Partly based on David Ketcheson's pendulum lesson, also under CC-BY. https://github.com/numerical-mooc/numerical-mooc*\n",
    "\n",
    "Let's step back for a moment. Suppose we have a first-order ODE $u'=f(u)$. You know that if we were to integrate this, there would be an arbitrary constant of integration. To find its value, we do need to know one point on the curve $(t, u)$. When the derivative in the ODE is with respect to time, we call that point the _initial value_ and write something like this:\n",
    "\n",
    "$$u(t=0)=u_0$$\n",
    "\n",
    "In the case of a second-order ODE, we already saw how to write it as a system of first-order ODEs, and we would need an initial value for each equation: two conditions are needed to determine our constants of integration. The same applies for higher-order ODEs: if it is of order $n$, we can write it as $n$ first-order equations, and we need $n$ known values. If we have that data, we call the problem an _initial value problem_.\n",
    "\n",
    "Remember the definition of a derivative? The derivative represents the slope of the tangent at a point of the curve $u=u(t)$, and the definition of the derivative $u'$ for a function is:\n",
    "\n",
    "$$u'(t) = \\lim_{\\Delta t\\rightarrow 0} \\frac{u(t+\\Delta t)-u(t)}{\\Delta t}$$\n",
    "\n",
    "If the step $\\Delta t$ is already very small, we can _approximate_ the derivative by dropping the limit. We can write:\n",
    "\n",
    "$$\\begin{equation}\n",
    "u(t+\\Delta t) \\approx u(t) + u'(t) \\Delta t\n",
    "\\end{equation}$$\n",
    "\n",
    "With this equation, and because we know $u'(t)=f(u)$, if we have an initial value, we can step by $\\Delta t$ and find the value of $u(t+\\Delta t)$, then we can take this value, and find $u(t+2\\Delta t)$, and so on: we say that we _step in time_, numerically finding the solution $u(t)$ for a range of values: $t_1, t_2, t_3 \\cdots$, each separated by $\\Delta t$. The numerical solution of the ODE is simply the table of values $t_i, u_i$ that results from this process.\n"
   ]
  },
  {
   "cell_type": "markdown",
   "metadata": {},
   "source": [
    "# Euler's method\n",
    "*Also known as \"Simple Euler\" or sometimes \"Simple Error\".*\n",
    "\n",
    "The approximate solution at time $t_n$ is $u_n$, and the numerical solution of the differential equation consists of computing a sequence of approximate solutions by the following formula, based on Equation (10):\n",
    "\n",
    "$$u_{n+1} = u_n + \\Delta t \\,f(u_n).$$\n",
    "\n",
    "This formula is called **Euler's method**.\n",
    "\n",
    "For the equations of the rabbits and foxes, Euler's method gives the following algorithm that we need to implement in code:\n",
    "\n",
    "\\begin{align}\n",
    "R_{n+1} & = R_n + \\Delta t \\left(k_1 R_n - k_2 R_n F_n \\right) \\\\\n",
    "F_{n+1} & = F_n + \\Delta t \\left( k_3 R_n F-n - k_4 F_n \\right).\n",
    "\\end{align}\n"
   ]
  },
  {
   "cell_type": "code",
   "execution_count": 1,
   "metadata": {
    "collapsed": true
   },
   "outputs": [],
   "source": [
    "# Completed in class Euler's method assignment with Cameron Fulco.\n",
    "# Import necessary libraries\n",
    "\n",
    "import numpy as np\n",
    "from matplotlib import pyplot as plt\n",
    "import math\n",
    "import random\n",
    "from scipy.integrate import odeint\n",
    "from scipy.signal import argrelextrema\n",
    "%matplotlib inline"
   ]
  },
  {
   "cell_type": "code",
   "execution_count": 2,
   "metadata": {
    "collapsed": false
   },
   "outputs": [
    {
     "data": {
      "image/png": "[encoded data removed]",
      "text/plain": [
       "<matplotlib.figure.Figure at 0x1b157d17a20>"
      ]
     },
     "metadata": {},
     "output_type": "display_data"
    },
    {
     "name": "stdout",
     "output_type": "stream",
     "text": [
      "The location of the second peak is at at 2800 live foxes in 428 days\n"
     ]
    }
   ],
   "source": [
    "#Monte Carlo Assignment Part 1 - Using odeint and finding location of second foxes peak \n",
    "\n",
    "k1 = 0.015 #day^-1 (growth rate of rabbits)\n",
    "k2 = 0.00004 #day^-1foxes^-1\n",
    "k3 = 0.0004 #day^-1rabbits^-1\n",
    "k4 = 0.04 #day^-1 (growth rate of foxes)\n",
    "\n",
    "def dEverythingbydt(everything, t):\n",
    "    R, F = everything\n",
    "    r1 = k1*R - k2*R*F\n",
    "    r2 = k3*R*F - k4*F\n",
    "    dRdt = r1\n",
    "    dFdt = r2\n",
    "    return dRdt, dFdt\n",
    "\n",
    "everything0 = np.array([400., 200.])\n",
    "dEverythingbydt(everything0, 0)\n",
    "\n",
    "t = np.linspace(0,600)\n",
    "output = odeint(dEverythingbydt, everything0, t)\n",
    "R, F = output.T\n",
    "\n",
    "plt.plot(t, R, label='$blue=rabbits$')\n",
    "plt.plot(t, F, label = '$green=foxes$')\n",
    "plt.legend(loc=\"best\")\n",
    "plt.xlabel(\"$Time (days) $\")\n",
    "plt.ylabel(\"$Rabbits and Foxes(Alive) $\")\n",
    "plt.show()\n",
    "\n",
    "A = (F[argrelextrema(F, np.greater_equal,order=10)])\n",
    "B = int(A[1])\n",
    "C = t[35]\n",
    "D = int(C)\n",
    "print(\"The location of the second peak is at at\", B, \"live foxes in\", D, \"days\")"
   ]
  },
  {
   "cell_type": "code",
   "execution_count": 3,
   "metadata": {
    "collapsed": false
   },
   "outputs": [],
   "source": [
    "# Monte Carlo Assingment Part 2 - Using Monte Carlo Algorithm Determine:\n",
    "# 1. The expected location of the second peak in foxes (eg. 425 days, 2800 foxes), on occasions that there is one (eg. a peak that's  >200 days and >100 foxes)\n",
    "# 2. The interquartile range of the second peak in foxes (eg. 411-443 days, 2700-3120 foxes).\n",
    "# 3. The probability that the foxes die out before 600 days are complete\n",
    "# 4. List some things you learned from this assignment \n",
    "\n",
    "# The code contained below is not completely mine, copied and rearragned some code from Greg Zaylor's Monte Carlo assingment. KH 05OCT16\n",
    "\n",
    "def MonteCarlo(times):\n",
    "    t = [0]\n",
    "    days = 0.\n",
    "    R = [400]\n",
    "    F = [200]\n",
    "    RF = [400,200]\n",
    "    \n",
    "    while times>days:\n",
    "        r1 = k1*RF[0]\n",
    "        r2 = k2*RF[0]*RF[1]\n",
    "        r3 = k3*RF[0]*RF[1]\n",
    "        r4 = k4*RF[1]\n",
    "        RATES = r1+r2+r3+r4\n",
    "        e = random.random()\n",
    "        check = RATES*e\n",
    "        \n",
    "        if check<=r1:\n",
    "            RF[0]=RF[0]+1\n",
    "            RF[1]=RF[1]\n",
    "        elif r1<check<=r1+r2:\n",
    "            RF[0]=RF[0]-1\n",
    "            RF[1]=RF[1]\n",
    "        elif r1+r2<check<=r1+r2+r3:\n",
    "            RF[0]=RF[0]\n",
    "            RF[1]=RF[1]+1\n",
    "        else:\n",
    "            RF[0]=RF[0]\n",
    "            RF[1]=RF[1]-1\n",
    "            \n",
    "        R.append(RF[0])\n",
    "        F.append(RF[1])\n",
    "        \n",
    "        dt=math.log((1/e))/RATES\n",
    "        days = days+dt\n",
    "        t.append(days)\n",
    "        \n",
    "        if RF[1]==0:\n",
    "            break\n",
    "            \n",
    "    return (R,F,t,FD)"
   ]
  },
  {
   "cell_type": "code",
   "execution_count": null,
   "metadata": {
    "collapsed": false
   },
   "outputs": [],
   "source": [
    "Iterations = 500\n",
    "FAP =[0]\n",
    "TAP = [0]\n",
    "FD = [0]\n",
    "\n",
    "for i in range(Iterations):\n",
    "    Answer = MonteCarlo(600)\n",
    "    plt.plot(Answer[2],Answer[0],'blue')\n",
    "    plt.plot(Answer[2],Answer[1],'orange')\n",
    "    \n",
    "    time = (Answer[2])\n",
    "    foxes = (Answer[1])\n",
    "    rabbits = (Answer[0])\n",
    "    d = 12000\n",
    "    foxes[:d]=[0]*d\n",
    "    f = max(foxes)\n",
    "    \n",
    "    if d>12000:\n",
    "        for p, item in enumerate(foxes):\n",
    "            if item == f:\n",
    "                FAP.append(f)\n",
    "                TAP.append(Answer[2][p])\n",
    "                break\n",
    "        else:\n",
    "            FD =FD+1    "
   ]
  },
  {
   "cell_type": "code",
   "execution_count": 18,
   "metadata": {
    "collapsed": false
   },
   "outputs": [
    {
     "ename": "ZeroDivisionError",
     "evalue": "float division by zero",
     "output_type": "error",
     "traceback": [
      "\u001b[1;31m---------------------------------------------------------------------------\u001b[0m",
      "\u001b[1;31mZeroDivisionError\u001b[0m                         Traceback (most recent call last)",
      "\u001b[1;32m<ipython-input-18-1983e4ad3beb>\u001b[0m in \u001b[0;36m<module>\u001b[1;34m()\u001b[0m\n\u001b[1;32m----> 1\u001b[1;33m \u001b[0mprint\u001b[0m\u001b[1;33m(\u001b[0m\u001b[1;34m\"The second peak occurs at \"\u001b[0m\u001b[1;33m,\u001b[0m \u001b[0mround\u001b[0m\u001b[1;33m(\u001b[0m\u001b[0msum\u001b[0m\u001b[1;33m(\u001b[0m\u001b[0mFAP\u001b[0m\u001b[1;33m)\u001b[0m\u001b[1;33m/\u001b[0m\u001b[0mfloat\u001b[0m\u001b[1;33m(\u001b[0m\u001b[1;33m(\u001b[0m\u001b[0mlen\u001b[0m\u001b[1;33m(\u001b[0m\u001b[0mFAP\u001b[0m\u001b[1;33m)\u001b[0m\u001b[1;33m-\u001b[0m\u001b[1;36m1\u001b[0m\u001b[1;33m)\u001b[0m\u001b[1;33m)\u001b[0m\u001b[1;33m)\u001b[0m\u001b[1;33m,\u001b[0m \u001b[1;34m\"foxes which occurs at\"\u001b[0m\u001b[1;33m,\u001b[0m \u001b[0mround\u001b[0m\u001b[1;33m(\u001b[0m\u001b[0msum\u001b[0m\u001b[1;33m(\u001b[0m\u001b[0mTAP\u001b[0m\u001b[1;33m)\u001b[0m\u001b[1;33m/\u001b[0m\u001b[0mfloat\u001b[0m\u001b[1;33m(\u001b[0m\u001b[1;33m(\u001b[0m\u001b[0mlen\u001b[0m\u001b[1;33m(\u001b[0m\u001b[0mTAP\u001b[0m\u001b[1;33m)\u001b[0m\u001b[1;33m-\u001b[0m\u001b[1;36m1\u001b[0m\u001b[1;33m)\u001b[0m\u001b[1;33m)\u001b[0m\u001b[1;33m)\u001b[0m\u001b[1;33m,\u001b[0m \u001b[1;34m\"days\"\u001b[0m\u001b[1;33m)\u001b[0m\u001b[1;33m\u001b[0m\u001b[0m\n\u001b[0m",
      "\u001b[1;31mZeroDivisionError\u001b[0m: float division by zero"
     ]
    }
   ],
   "source": [
    "print(\"The second peak occurs at \", round(sum(FAP)/float((len(FAP)-1))), \"foxes which occurs at\", round(sum(TAP)/float((len(TAP)-1))), \"days\")"
   ]
  },
  {
   "cell_type": "code",
   "execution_count": null,
   "metadata": {
    "collapsed": true
   },
   "outputs": [],
   "source": [
    "# List of some things that I learned from this assignment\n",
    "# 1. Learned how to use argrelextrema from scipy.signal library\n",
    "# 2. Learned how to implement a Kinetic Monte Carlo (KMC) simulation\n",
    "# 3. Learned more about the capabilities of if/else/while statements both within and outside of a for loop\n",
    "# 4. Learned through practice how to use git, gitbash, and github more effectively \n",
    "# 5. Learned that I need to allocate more time to complete HW assingments and submit them the way I want to. \n",
    "\n",
    "#Did not complete HW. Mismanaged my time and resources with this assingment. "
   ]
  },
  {
   "cell_type": "code",
   "execution_count": null,
   "metadata": {
    "collapsed": true
   },
   "outputs": [],
   "source": []
  }
 ],
 "metadata": {
  "anaconda-cloud": {},
  "kernelspec": {
   "display_name": "Python [py35]",
   "language": "python",
   "name": "Python [py35]"
  },
  "language_info": {
   "codemirror_mode": {
    "name": "ipython",
    "version": 3
   },
   "file_extension": ".py",
   "mimetype": "text/x-python",
   "name": "python",
   "nbconvert_exporter": "python",
   "pygments_lexer": "ipython3",
   "version": "3.5.2"
  }
 },
 "nbformat": 4,
 "nbformat_minor": 1
}
